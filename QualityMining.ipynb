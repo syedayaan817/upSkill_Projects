{
  "nbformat": 4,
  "nbformat_minor": 0,
  "metadata": {
    "colab": {
      "provenance": [],
      "gpuType": "T4"
    },
    "kernelspec": {
      "name": "python3",
      "display_name": "Python 3"
    },
    "language_info": {
      "name": "python"
    },
    "accelerator": "GPU"
  },
  "cells": [
    {
      "cell_type": "code",
      "source": [
        "import pandas as pd\n",
        "import numpy as np\n",
        "\n",
        "# Load CSV with python engine and skip problematic lines\n",
        "df = pd.read_csv(\"/content/MiningProcess_Flotation_Plant_Database.csv\",\n",
        "                 sep=\",\",\n",
        "                 encoding='utf-8',\n",
        "                 engine='python',\n",
        "                 on_bad_lines='skip',  # skips broken rows\n",
        "                 decimal=',')\n",
        "\n",
        "# Parse the first column as datetime\n",
        "df.iloc[:, 0] = pd.to_datetime(df.iloc[:, 0], errors='coerce')\n",
        "df = df.dropna(subset=[df.columns[0]])  # drop rows with bad timestamps\n",
        "df = df.set_index(df.columns[0])\n",
        "\n",
        "# Convert all remaining columns to numeric\n",
        "for col in df.columns:\n",
        "    df[col] = pd.to_numeric(df[col], errors='coerce')\n",
        "\n",
        "# Resample to 1-minute intervals, interpolate missing values\n",
        "df_resampled = df.resample('1min').mean().interpolate()\n",
        "\n",
        "# Save cleaned and resampled data (optional)\n",
        "df_resampled.to_csv(\"/content/cleaned_resampled_mining_data.csv\")\n",
        "\n",
        "# Display basic info\n",
        "print(\"✅ Successfully loaded and cleaned data.\")\n",
        "print(\"Shape:\", df_resampled.shape)\n",
        "print(df_resampled.head())\n"
      ],
      "metadata": {
        "colab": {
          "base_uri": "https://localhost:8080/"
        },
        "id": "EZnIypfubAmI",
        "outputId": "621291eb-3af7-4f77-86ee-528700af7237"
      },
      "execution_count": null,
      "outputs": [
        {
          "output_type": "stream",
          "name": "stderr",
          "text": [
            "/usr/local/lib/python3.11/dist-packages/pandas/core/indexes/base.py:7588: FutureWarning: Dtype inference on a pandas object (Series, Index, ExtensionArray) is deprecated. The Index constructor will keep the original dtype in the future. Call `infer_objects` on the result to get the old behavior.\n",
            "  return Index(sequences[0], name=names)\n"
          ]
        },
        {
          "output_type": "stream",
          "name": "stdout",
          "text": [
            "✅ Successfully loaded and cleaned data.\n",
            "Shape: (245461, 23)\n",
            "                     % Iron Feed  % Silica Feed  Starch Flow  Amina Flow  \\\n",
            "date                                                                       \n",
            "2017-03-10 01:00:00         55.2          16.98  3162.625026  578.786678   \n",
            "2017-03-10 01:01:00         55.2          16.98  3162.135549  578.093895   \n",
            "2017-03-10 01:02:00         55.2          16.98  3161.646071  577.401111   \n",
            "2017-03-10 01:03:00         55.2          16.98  3161.156594  576.708327   \n",
            "2017-03-10 01:04:00         55.2          16.98  3160.667117  576.015544   \n",
            "\n",
            "                     Ore Pulp Flow  Ore Pulp pH  Ore Pulp Density  \\\n",
            "date                                                                \n",
            "2017-03-10 01:00:00     398.753368    10.113487          1.729558   \n",
            "2017-03-10 01:01:00     398.772009    10.113758          1.728529   \n",
            "2017-03-10 01:02:00     398.790650    10.114029          1.727499   \n",
            "2017-03-10 01:03:00     398.809291    10.114300          1.726469   \n",
            "2017-03-10 01:04:00     398.827931    10.114571          1.725440   \n",
            "\n",
            "                     Flotation Column 01 Air Flow  \\\n",
            "date                                                \n",
            "2017-03-10 01:00:00                    251.166672   \n",
            "2017-03-10 01:01:00                    251.145238   \n",
            "2017-03-10 01:02:00                    251.123803   \n",
            "2017-03-10 01:03:00                    251.102368   \n",
            "2017-03-10 01:04:00                    251.080934   \n",
            "\n",
            "                     Flotation Column 02 Air Flow  \\\n",
            "date                                                \n",
            "2017-03-10 01:00:00                    250.226086   \n",
            "2017-03-10 01:01:00                    250.225886   \n",
            "2017-03-10 01:02:00                    250.225685   \n",
            "2017-03-10 01:03:00                    250.225484   \n",
            "2017-03-10 01:04:00                    250.225284   \n",
            "\n",
            "                     Flotation Column 03 Air Flow  ...  \\\n",
            "date                                               ...   \n",
            "2017-03-10 01:00:00                    250.178287  ...   \n",
            "2017-03-10 01:01:00                    250.175871  ...   \n",
            "2017-03-10 01:02:00                    250.173455  ...   \n",
            "2017-03-10 01:03:00                    250.171039  ...   \n",
            "2017-03-10 01:04:00                    250.168623  ...   \n",
            "\n",
            "                     Flotation Column 07 Air Flow  Flotation Column 01 Level  \\\n",
            "date                                                                           \n",
            "2017-03-10 01:00:00                    250.208184                 450.383776   \n",
            "2017-03-10 01:01:00                    250.203007                 450.366936   \n",
            "2017-03-10 01:02:00                    250.197830                 450.350095   \n",
            "2017-03-10 01:03:00                    250.192653                 450.333255   \n",
            "2017-03-10 01:04:00                    250.187476                 450.316415   \n",
            "\n",
            "                     Flotation Column 02 Level  Flotation Column 03 Level  \\\n",
            "date                                                                        \n",
            "2017-03-10 01:00:00                 446.891845                 450.474523   \n",
            "2017-03-10 01:01:00                 446.947803                 450.467968   \n",
            "2017-03-10 01:02:00                 447.003762                 450.461413   \n",
            "2017-03-10 01:03:00                 447.059720                 450.454858   \n",
            "2017-03-10 01:04:00                 447.115679                 450.448303   \n",
            "\n",
            "                     Flotation Column 04 Level  Flotation Column 05 Level  \\\n",
            "date                                                                        \n",
            "2017-03-10 01:00:00                 449.912259                 455.792161   \n",
            "2017-03-10 01:01:00                 449.919201                 455.674341   \n",
            "2017-03-10 01:02:00                 449.926144                 455.556522   \n",
            "2017-03-10 01:03:00                 449.933086                 455.438702   \n",
            "2017-03-10 01:04:00                 449.940028                 455.320882   \n",
            "\n",
            "                     Flotation Column 06 Level  Flotation Column 07 Level  \\\n",
            "date                                                                        \n",
            "2017-03-10 01:00:00                 464.383310                 450.532747   \n",
            "2017-03-10 01:01:00                 464.235281                 450.546996   \n",
            "2017-03-10 01:02:00                 464.087251                 450.561246   \n",
            "2017-03-10 01:03:00                 463.939221                 450.575495   \n",
            "2017-03-10 01:04:00                 463.791192                 450.589744   \n",
            "\n",
            "                     % Iron Concentrate  % Silica Concentrate  \n",
            "date                                                           \n",
            "2017-03-10 01:00:00             66.9100              1.310000  \n",
            "2017-03-10 01:01:00             66.9125              1.306667  \n",
            "2017-03-10 01:02:00             66.9150              1.303333  \n",
            "2017-03-10 01:03:00             66.9175              1.300000  \n",
            "2017-03-10 01:04:00             66.9200              1.296667  \n",
            "\n",
            "[5 rows x 23 columns]\n"
          ]
        }
      ]
    },
    {
      "cell_type": "code",
      "execution_count": null,
      "metadata": {
        "colab": {
          "base_uri": "https://localhost:8080/",
          "height": 1000
        },
        "id": "Oo2dKEUXag5g",
        "outputId": "76912adb-f323-428f-d437-4c154dd70db9"
      },
      "outputs": [
        {
          "output_type": "stream",
          "name": "stderr",
          "text": [
            "<ipython-input-7-ffe51d2e7ac3>:21: FutureWarning: 'T' is deprecated and will be removed in a future version, please use 'min' instead.\n",
            "  df_resampled = df.resample('1T').mean().interpolate()\n"
          ]
        },
        {
          "output_type": "stream",
          "name": "stdout",
          "text": [
            "\n",
            "Correlation with % Silica Concentrate:\n",
            "% Silica Concentrate            1.000000\n",
            "Amina Flow                      0.125240\n",
            "Ore Pulp Flow                   0.065845\n",
            "% Silica Feed                   0.050008\n",
            "Flotation Column 05 Air Flow    0.046272\n",
            "Ore Pulp Density                0.042716\n",
            "Flotation Column 02 Level       0.040337\n",
            "Flotation Column 01 Level       0.032675\n",
            "Flotation Column 03 Level       0.022291\n",
            "Flotation Column 04 Air Flow   -0.020298\n",
            "Starch Flow                    -0.057440\n",
            "Flotation Column 07 Air Flow   -0.111784\n",
            "Flotation Column 06 Air Flow   -0.111917\n",
            "Flotation Column 06 Level      -0.112226\n",
            "Ore Pulp pH                    -0.141291\n",
            "Flotation Column 07 Level      -0.144024\n",
            "Flotation Column 04 Level      -0.159294\n",
            "Flotation Column 05 Level      -0.175510\n",
            "Flotation Column 02 Air Flow   -0.189086\n",
            "Flotation Column 01 Air Flow   -0.233219\n",
            "Flotation Column 03 Air Flow   -0.234726\n",
            "% Iron Concentrate             -0.805877\n",
            "Name: % Silica Concentrate, dtype: float64\n"
          ]
        },
        {
          "output_type": "display_data",
          "data": {
            "text/plain": [
              "<Figure size 640x480 with 2 Axes>"
            ],
            "image/png": "[encoded data removed]"
          },
          "metadata": {}
        },
        {
          "output_type": "stream",
          "name": "stdout",
          "text": [
            "\n",
            "--- Predicting % Silica (Current Time) ---\n"
          ]
        },
        {
          "output_type": "stream",
          "name": "stderr",
          "text": [
            "/usr/local/lib/python3.11/dist-packages/xgboost/core.py:158: UserWarning: [15:17:06] WARNING: /workspace/src/common/error_msg.cc:27: The tree method `gpu_hist` is deprecated since 2.0.0. To use GPU training, set the `device` parameter to CUDA instead.\n",
            "\n",
            "    E.g. tree_method = \"hist\", device = \"cuda\"\n",
            "\n",
            "  warnings.warn(smsg, UserWarning)\n",
            "/usr/local/lib/python3.11/dist-packages/xgboost/core.py:158: UserWarning: [15:17:06] WARNING: /workspace/src/learner.cc:740: \n",
            "Parameters: { \"predictor\" } are not used.\n",
            "\n",
            "  warnings.warn(smsg, UserWarning)\n",
            "/usr/local/lib/python3.11/dist-packages/xgboost/core.py:158: UserWarning: [15:17:06] WARNING: /workspace/src/common/error_msg.cc:27: The tree method `gpu_hist` is deprecated since 2.0.0. To use GPU training, set the `device` parameter to CUDA instead.\n",
            "\n",
            "    E.g. tree_method = \"hist\", device = \"cuda\"\n",
            "\n",
            "  warnings.warn(smsg, UserWarning)\n"
          ]
        },
        {
          "output_type": "stream",
          "name": "stdout",
          "text": [
            "\n",
            "--- Predicting % Silica (Future: 2 Hours Ahead) ---\n"
          ]
        },
        {
          "output_type": "stream",
          "name": "stderr",
          "text": [
            "/usr/local/lib/python3.11/dist-packages/xgboost/core.py:158: UserWarning: [15:17:07] WARNING: /workspace/src/common/error_msg.cc:27: The tree method `gpu_hist` is deprecated since 2.0.0. To use GPU training, set the `device` parameter to CUDA instead.\n",
            "\n",
            "    E.g. tree_method = \"hist\", device = \"cuda\"\n",
            "\n",
            "  warnings.warn(smsg, UserWarning)\n",
            "/usr/local/lib/python3.11/dist-packages/xgboost/core.py:158: UserWarning: [15:17:07] WARNING: /workspace/src/learner.cc:740: \n",
            "Parameters: { \"predictor\" } are not used.\n",
            "\n",
            "  warnings.warn(smsg, UserWarning)\n",
            "/usr/local/lib/python3.11/dist-packages/xgboost/core.py:158: UserWarning: [15:17:07] WARNING: /workspace/src/common/error_msg.cc:27: The tree method `gpu_hist` is deprecated since 2.0.0. To use GPU training, set the `device` parameter to CUDA instead.\n",
            "\n",
            "    E.g. tree_method = \"hist\", device = \"cuda\"\n",
            "\n",
            "  warnings.warn(smsg, UserWarning)\n"
          ]
        },
        {
          "output_type": "stream",
          "name": "stdout",
          "text": [
            "\n",
            "--- Predicting % Silica (Without % Iron Concentrate) ---\n"
          ]
        },
        {
          "output_type": "stream",
          "name": "stderr",
          "text": [
            "/usr/local/lib/python3.11/dist-packages/xgboost/core.py:158: UserWarning: [15:17:08] WARNING: /workspace/src/common/error_msg.cc:27: The tree method `gpu_hist` is deprecated since 2.0.0. To use GPU training, set the `device` parameter to CUDA instead.\n",
            "\n",
            "    E.g. tree_method = \"hist\", device = \"cuda\"\n",
            "\n",
            "  warnings.warn(smsg, UserWarning)\n",
            "/usr/local/lib/python3.11/dist-packages/xgboost/core.py:158: UserWarning: [15:17:08] WARNING: /workspace/src/learner.cc:740: \n",
            "Parameters: { \"predictor\" } are not used.\n",
            "\n",
            "  warnings.warn(smsg, UserWarning)\n",
            "/usr/local/lib/python3.11/dist-packages/xgboost/core.py:158: UserWarning: [15:17:08] WARNING: /workspace/src/common/error_msg.cc:27: The tree method `gpu_hist` is deprecated since 2.0.0. To use GPU training, set the `device` parameter to CUDA instead.\n",
            "\n",
            "    E.g. tree_method = \"hist\", device = \"cuda\"\n",
            "\n",
            "  warnings.warn(smsg, UserWarning)\n"
          ]
        }
      ],
      "source": [
        "# Install XGBoost (if not already installed)\n",
        "!pip install xgboost --quiet\n",
        "\n",
        "import pandas as pd\n",
        "import numpy as np\n",
        "import seaborn as sns\n",
        "import matplotlib.pyplot as plt\n",
        "from sklearn.model_selection import train_test_split\n",
        "from sklearn.metrics import mean_squared_error\n",
        "import xgboost as xgb\n",
        "\n",
        "# Load dataset\n",
        "df = pd.read_csv(\"/content/cleaned_resampled_mining_data.csv\", on_bad_lines='skip')\n",
        "\n",
        "# Step 1: Parse datetime and set as index\n",
        "df['date'] = pd.to_datetime(df.iloc[:, 0])\n",
        "df.set_index('date', inplace=True)\n",
        "df.drop(columns=df.columns[0], inplace=True)  # Remove redundant datetime column\n",
        "\n",
        "# Step 2: Resample to 1-minute intervals (mean + interpolate missing)\n",
        "df_resampled = df.resample('1T').mean().interpolate()\n",
        "\n",
        "# Step 3: Correlation check\n",
        "print(\"\\nCorrelation with % Silica Concentrate:\")\n",
        "print(df_resampled.corr()['% Silica Concentrate'].sort_values(ascending=False))\n",
        "\n",
        "# Optional: Plot heatmap\n",
        "sns.heatmap(df_resampled.corr(), cmap='coolwarm', xticklabels=False, yticklabels=False)\n",
        "plt.title(\"Correlation Heatmap\")\n",
        "plt.show()\n",
        "\n",
        "# Step 4: Predict % Silica every minute\n",
        "print(\"\\n--- Predicting % Silica (Current Time) ---\")\n",
        "X = df_resampled.drop(columns=['% Silica Concentrate'])\n",
        "y = df_resampled['% Silica Concentrate']\n",
        "\n",
        "X_train, X_test, y_train, y_test = train_test_split(X, y, shuffle=False, test_size=0.2)\n",
        "\n",
        "model = xgb.XGBRegressor(tree_method='gpu_hist', predictor='gpu_predictor', random_state=42)\n",
        "model.fit(X_train, y_train)\n",
        "pred_current = model.predict(X_test)\n",
        "rmse_current = mean_squared_error(y_test, pred_current)\n",
        "\n",
        "\n",
        "# Step 5: Predict silica n steps (e.g., 2 hours = 120 minutes) ahead\n",
        "print(\"\\n--- Predicting % Silica (Future: 2 Hours Ahead) ---\")\n",
        "n_minutes_ahead = 120\n",
        "df_shifted = df_resampled.copy()\n",
        "df_shifted['target_future'] = df_shifted['% Silica Concentrate'].shift(-n_minutes_ahead)\n",
        "df_shifted.dropna(inplace=True)\n",
        "\n",
        "X_future = df_shifted.drop(columns=['% Silica Concentrate', 'target_future'])\n",
        "y_future = df_shifted['target_future']\n",
        "\n",
        "X_train_f, X_test_f, y_train_f, y_test_f = train_test_split(X_future, y_future, shuffle=False, test_size=0.2)\n",
        "\n",
        "model_future = xgb.XGBRegressor(tree_method='gpu_hist', predictor='gpu_predictor', random_state=42)\n",
        "model_future.fit(X_train_f, y_train_f)\n",
        "pred_future = model_future.predict(X_test_f)\n",
        "rmse_future = mean_squared_error(y_test_f, pred_future)\n",
        "\n",
        "\n",
        "# Step 6: Predict % Silica without using % Iron Concentrate\n",
        "print(\"\\n--- Predicting % Silica (Without % Iron Concentrate) ---\")\n",
        "X_wo_iron = df_resampled.drop(columns=['% Silica Concentrate', '% Iron Concentrate'])\n",
        "y_wo_iron = df_resampled['% Silica Concentrate']\n",
        "\n",
        "X_train_wo, X_test_wo, y_train_wo, y_test_wo = train_test_split(X_wo_iron, y_wo_iron, shuffle=False, test_size=0.2)\n",
        "\n",
        "model_wo = xgb.XGBRegressor(tree_method='gpu_hist', predictor='gpu_predictor', random_state=42)\n",
        "model_wo.fit(X_train_wo, y_train_wo)\n",
        "pred_wo = model_wo.predict(X_test_wo)\n",
        "rmse_wo = mean_squared_error(y_test_wo, pred_wo)\n",
        "\n"
      ]
    },
    {
      "cell_type": "code",
      "source": [
        "from tabulate import tabulate\n",
        "\n",
        "results = [\n",
        "    [\"Current Minute\", f\"{rmse_current:.4f}\"],\n",
        "    [\"2 Hours Ahead\", f\"{rmse_future:.4f}\"],\n",
        "    [\"Without % Iron Concentrate\", f\"{rmse_wo:.4f}\"]\n",
        "]\n",
        "\n",
        "print(tabulate(results, headers=[\"Scenario\", \"Result\"], tablefmt=\"grid\"))\n"
      ],
      "metadata": {
        "colab": {
          "base_uri": "https://localhost:8080/"
        },
        "id": "1ZpeM73odN3C",
        "outputId": "13b3a6cb-0fd6-4ee6-8ae2-eb9361d02a9c"
      },
      "execution_count": null,
      "outputs": [
        {
          "output_type": "stream",
          "name": "stdout",
          "text": [
            "+----------------------------+----------+\n",
            "| Scenario                   |   Result |\n",
            "+============================+==========+\n",
            "| Current Minute             |   0.6516 |\n",
            "+----------------------------+----------+\n",
            "| 2 Hours Ahead              |   1.9252 |\n",
            "+----------------------------+----------+\n",
            "| Without % Iron Concentrate |   1.2831 |\n",
            "+----------------------------+----------+\n"
          ]
        }
      ]
    },
    {
      "cell_type": "code",
      "source": [],
      "metadata": {
        "id": "Ligs4DPueYPI"
      },
      "execution_count": null,
      "outputs": []
    }
  ]
}